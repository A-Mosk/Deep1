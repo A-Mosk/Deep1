import numpy as np

def sigma(x):
    return(1/(1+np.exp(-x)))

alpha = 0.1
epocs = 10000

#create dataset
X = np.array([0,0,0,0,0,0,0,1,0,0,1,0,0,0,1,1,0,1,0,0,0,1,0,1,0,1,1,0,0,1,1,1,1,0,0,0,1,0,0,1,1,0,1,0,1,0,1,1])
n0 = 4
m = 12
X = np.reshape(X,(m,n0)).T
#print(X)
Y = np.array([0,1,1,1,0,1,1,1,0,1,1,1])
nodes = (3,1)
A_0 = X * np.random.rand(1,1)
#print('A_0',A_0.shape,A_0)

#create wieghts and bias for 1st layer
W_1 = np.random.rand(nodes[0],n0)
W_2 = np.random.rand(nodes[1],nodes[0])
#print('W_1',W_1,'W_2',W_2)
B_1 = np.zeros((nodes[0],1))
B_2 = np.zeros((nodes[1],1))

i = 0
while i < epocs:
    print(i)
    
    #1st layer
    Z_1 = np.dot(W_1,A_0)+B_1
    #print('Z_1',Z_1.shape,Z_1)
    A_1 = sigma(Z_1)
    print('A_1',A_1.shape,A_1)
    #2nd layer
    Z_2 = np.dot(W_2,A_1)+B_2
    #print('Z_1',Z_1.shape,Z_1)
    A_2 = sigma(Z_2)
    print('A_2',A_2.shape,A_2)
    
    #Cost
    L = -(1/m)*np.sum(Y*np.log(A_2)+(1-Y)*np.log(1-A_2))
    print('L',L.shape,L)
    
    dZ_2 = A_2 - Y
    #print('dZ_1',dZ_1.shape,dZ_1)
    dW_2 = (1/m)*np.dot(dZ_2,A_1.T)
    #print('dW_1',dW_1.shape,dW_1)
    dB_2 = (1/m)*np.sum(dZ_2,axis = 1,keepdims = True)
    #print('dB_1',dB_1.shape,dB_1)
    
    dZ_1 = np.dot(W_2.T,dZ_2) * (A_1 - A_2)
    #print('dZ_1',dZ_1.shape,dZ_1)
    dW_1 = (1/m)*np.dot(dZ_1,A_0.T)
    #print('dW_1',dW_1.shape,dW_1)
    dB_1 = (1/m)*np.sum(dZ_1,axis = 1,keepdims = True)
    #print('dB_1',dB_1.shape,dB_1)
    
    W_1 = W_1 - alpha * dW_1
    #print('W_1',W_1.shape,W_1)
    B_1 = B_1 - alpha * dB_1
    #print('B_1',B_1.shape,B_1)
    W_2 = W_2 - alpha * dW_2
    #print('W_2',W_2.shape,W_2)
    B_2 = B_2 - alpha * dB_2
    #print('B_1',B_1.shape,B_1)
    
    i = i + 1
