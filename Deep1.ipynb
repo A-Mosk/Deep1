import numpy as np
import matplotlib.pyplot as plt

def sigma(x):
    return(1/(1+np.exp(-x)))
def tanh(x):
    return((np.exp(x)-np.exp(-x))/((np.exp(x))+np.exp(-x)))
def relu(x):
    x[x<=0] = 0
    return(x)

def dsigma(x):
    return(x * (1-x))
def dtanh(x):
    return(1 - np.power(x,2))
def drelu(x):
    x[x<=0] = 0
    x[x>0] = 1
    return(x)

alpha = 0.01

#create dataset
X = np.array([0,0,0,0,0,0,0,1,0,0,1,0,0,0,1,1,0,1,0,0,0,1,0,1,0,1,1,0,0,1,1,1,1,0,0,0,1,0,0,1,1,0,1,0,1,0,1,1,1,1,0,0,1,1,0,1,1,1,1,0,1,1,1,1])
n0 = 4
m = 16
X = np.reshape(X,(m,n0)).T
Y = np.array([1,1,1,0,1,0,1,0,1,0,1,0,1,0,1,0,])
nodes = (4,4,1)
A_0 = X

#Create wieghts and bias
W_1 = np.random.rand(nodes[0],n0)
W_2 = np.random.rand(nodes[1],nodes[0])
W_3 = np.random.rand(nodes[2],nodes[1])
B_1 = np.zeros((1,1))
B_2 = np.zeros((1,1))
B_3 = np.zeros((1,1))

L = ([1])
i = 0

while L[len(L)-1] >= 0.5 or L[len(L)-1] < L[len(L)-2] * 0.999:
    if i > 10000: 
        break
    
    #1st layer
    Z_1 = np.dot(W_1,A_0)+B_1
    A_1 = relu(Z_1)
    #2nd layer
    Z_2 = np.dot(W_2,A_1)+B_2
    A_2 = tanh(Z_2)
    #3rd layer
    Z_3 = np.dot(W_3,A_2)+B_3
    A_3 = sigma(Z_3)
    
    #Cost
    L.append(-(1/m)*np.sum(Y*np.log(A_3)+(1-Y)*np.log(1-A_3)))
    
    dZ_3 = A_3 - Y
    dW_3 = (1/m)*np.dot(dZ_3,A_2.T)
    dB_3 = (1/m)*np.sum(dZ_3,axis = 1,keepdims = True)
    
    dZ_2 = np.dot(W_3.T,dZ_3) * dtanh(A_2)
    dW_2 = (1/m)*np.dot(dZ_2,A_1.T)
    dB_2 = (1/m)*np.sum(dZ_2,axis = 1,keepdims = True)
    
    dZ_1 = np.dot(W_2.T,dZ_2) * drelu(A_1)
    dW_1 = (1/m)*np.dot(dZ_1,A_0.T)
    dB_1 = (1/m)*np.sum(dZ_1,axis = 1,keepdims = True)
    
    W_1 = W_1 - alpha * dW_1
    B_1 = B_1 - alpha * dB_1
    W_2 = W_2 - alpha * dW_2
    B_2 = B_2 - alpha * dB_2
    W_3 = W_3 - alpha * dW_3
    B_3 = B_3 - alpha * dB_3
    
    i = i + 1
plt.plot(L)
print('Y',Y.shape,Y)
print('A_3',A_3.shape,A_3)
print('i',i)
plt.xlabel('Rounds') 
plt.ylabel('Cost function') 
plt.show()
